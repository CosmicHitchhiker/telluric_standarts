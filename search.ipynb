{
 "cells": [
  {
   "cell_type": "code",
   "execution_count": 1,
   "metadata": {},
   "outputs": [],
   "source": [
    "import numpy as np\n",
    "import pandas as pd\n",
    "from astroquery.simbad import Simbad\n",
    "from astroquery.vizier import Vizier\n",
    "import astropy.units as u"
   ]
  },
  {
   "cell_type": "markdown",
   "metadata": {},
   "source": [
    "## Предобработка таблицы"
   ]
  },
  {
   "cell_type": "markdown",
   "metadata": {},
   "source": [
    "Открываю файл с каталогом"
   ]
  },
  {
   "cell_type": "code",
   "execution_count": 2,
   "metadata": {},
   "outputs": [],
   "source": [
    "df = pd.read_csv('./A0V_list_filtered.txt', sep='\\s+', skipinitialspace=True,\n",
    "                 names=['name', 'RA', 'Dec', 'epoch', 'mag'])"
   ]
  },
  {
   "cell_type": "markdown",
   "metadata": {},
   "source": [
    "Звёздную величину делаю численным значением"
   ]
  },
  {
   "cell_type": "code",
   "execution_count": 4,
   "metadata": {},
   "outputs": [],
   "source": [
    "df['Vmag'] = df['mag'].map(lambda x: float(x.split('=')[-1]))\n",
    "df = df.astype({'name': \"string\"})\n",
    "# df"
   ]
  },
  {
   "cell_type": "markdown",
   "metadata": {},
   "source": [
    "## Настройка запроса в симбад"
   ]
  },
  {
   "cell_type": "code",
   "execution_count": 6,
   "metadata": {},
   "outputs": [],
   "source": [
    "cS = Simbad()"
   ]
  },
  {
   "cell_type": "code",
   "execution_count": 10,
   "metadata": {},
   "outputs": [],
   "source": [
    "cS.add_votable_fields('flux(U)','flux(B)','flux(V)','flux(R)','flux(I)','flux(J)','flux(H)','flux(K)')\n",
    "\n",
    "cS.add_votable_fields('sptype')\n",
    "\n",
    "cS.add_votable_fields('otype(S)', 'otypes')\n",
    "\n",
    "cS.add_votable_fields('parallax')\n",
    "\n",
    "cS.add_votable_fields('propermotions')\n",
    "\n",
    "cS.add_votable_fields('typed_id')\n",
    "\n",
    "# cS.get_votable_fields()"
   ]
  },
  {
   "cell_type": "code",
   "execution_count": 9,
   "metadata": {},
   "outputs": [
    {
     "name": "stderr",
     "output_type": "stream",
     "text": [
      "/home/astrolander/.local/lib/python3.8/site-packages/astroquery/simbad/core.py:135: UserWarning: Warning: The script line number 265 raised an error (recorded in the `errors` attribute of the result table): Identifier not found in the database : BD-22   924A \n",
      "  warnings.warn(\"Warning: The script line number %i raised \"\n"
     ]
    }
   ],
   "source": [
    "table = cS.query_objects(df['name'][:])"
   ]
  },
  {
   "cell_type": "markdown",
   "metadata": {},
   "source": [
    "## Предобработка таблицы (перевод в pandas и декодирование строк)"
   ]
  },
  {
   "cell_type": "code",
   "execution_count": 11,
   "metadata": {},
   "outputs": [
    {
     "data": {
      "text/html": [
       "<i>Table length=4012</i>\n",
       "<table id=\"table140591997435808\" class=\"table-striped table-bordered table-condensed\">\n",
       "<thead><tr><th>MAIN_ID</th><th>RA</th><th>DEC</th><th>RA_PREC</th><th>DEC_PREC</th><th>COO_ERR_MAJA</th><th>COO_ERR_MINA</th><th>COO_ERR_ANGLE</th><th>COO_QUAL</th><th>COO_WAVELENGTH</th><th>COO_BIBCODE</th><th>FLUX_U</th><th>FLUX_B</th><th>FLUX_V</th><th>FLUX_R</th><th>FLUX_I</th><th>FLUX_J</th><th>FLUX_H</th><th>FLUX_K</th><th>SP_TYPE</th><th>SP_QUAL</th><th>SP_BIBCODE</th><th>OTYPE_S</th><th>OTYPES</th><th>PLX_VALUE</th><th>PLX_PREC</th><th>PLX_ERROR</th><th>PLX_QUAL</th><th>PLX_BIBCODE</th><th>PMRA</th><th>PMDEC</th><th>PMRA_PREC</th><th>PMDEC_PREC</th><th>PM_ERR_MAJA</th><th>PM_ERR_MINA</th><th>PM_ERR_ANGLE</th><th>PM_QUAL</th><th>PM_BIBCODE</th><th>TYPED_ID</th></tr></thead>\n",
       "<thead><tr><th></th><th>&quot;h:m:s&quot;</th><th>&quot;d:m:s&quot;</th><th></th><th></th><th>mas</th><th>mas</th><th>deg</th><th></th><th></th><th></th><th>mag</th><th>mag</th><th>mag</th><th>mag</th><th>mag</th><th>mag</th><th>mag</th><th>mag</th><th></th><th></th><th></th><th></th><th></th><th>mas</th><th></th><th>mas</th><th></th><th></th><th>mas / yr</th><th>mas / yr</th><th></th><th></th><th>mas / yr</th><th>mas / yr</th><th>deg</th><th></th><th></th><th></th></tr></thead>\n",
       "<thead><tr><th>object</th><th>str13</th><th>str13</th><th>int16</th><th>int16</th><th>float32</th><th>float32</th><th>int16</th><th>str1</th><th>str1</th><th>object</th><th>float32</th><th>float32</th><th>float32</th><th>float32</th><th>float32</th><th>float32</th><th>float32</th><th>float32</th><th>object</th><th>str1</th><th>object</th><th>object</th><th>object</th><th>float64</th><th>int16</th><th>float32</th><th>str1</th><th>object</th><th>float64</th><th>float64</th><th>int16</th><th>int16</th><th>float32</th><th>float32</th><th>int16</th><th>str1</th><th>object</th><th>object</th></tr></thead>\n",
       "<tr><td>HD 224820</td><td>00 00 55.3383</td><td>-30 03 51.003</td><td>14</td><td>14</td><td>0.068</td><td>0.038</td><td>90</td><td>A</td><td>O</td><td>2018yCat.1345....0G</td><td>--</td><td>8.43</td><td>8.41</td><td>--</td><td>--</td><td>8.343</td><td>8.41</td><td>8.36</td><td>A0V</td><td>C</td><td>1982MSS...C03....0H</td><td>Star</td><td>*|*|*iC|IR|UV</td><td>4.325</td><td>4</td><td>0.0747</td><td>A</td><td>2018yCat.1345....0G</td><td>18.495</td><td>2.429</td><td>3</td><td>3</td><td>0.108</td><td>0.077</td><td>90</td><td>A</td><td>2018yCat.1345....0G</td><td>HIP77</td></tr>\n",
       "<tr><td>HD 225047</td><td>00 02 55.2272</td><td>-30 08 59.184</td><td>14</td><td>14</td><td>0.070</td><td>0.041</td><td>90</td><td>A</td><td>O</td><td>2018yCat.1345....0G</td><td>--</td><td>8.45</td><td>8.42</td><td>--</td><td>--</td><td>8.377</td><td>8.428</td><td>8.427</td><td>A0V</td><td>C</td><td>1982MSS...C03....0H</td><td>Star</td><td>*|*iC|V*|IR</td><td>4.184</td><td>4</td><td>0.0871</td><td>A</td><td>2018yCat.1345....0G</td><td>18.587</td><td>2.681</td><td>3</td><td>3</td><td>0.113</td><td>0.086</td><td>90</td><td>A</td><td>2018yCat.1345....0G</td><td>HIP232</td></tr>\n",
       "<tr><td>HD 225077</td><td>00 03 12.7341</td><td>-31 12 44.581</td><td>14</td><td>14</td><td>0.158</td><td>0.088</td><td>90</td><td>A</td><td>O</td><td>2018yCat.1345....0G</td><td>--</td><td>8.93</td><td>8.88</td><td>--</td><td>--</td><td>8.705</td><td>8.724</td><td>8.66</td><td>A0V</td><td>C</td><td>1982MSS...C03....0H</td><td>SB*</td><td>SB*|SB*|*|*|*iC|IR</td><td>4.433</td><td>4</td><td>0.1536</td><td>A</td><td>2018yCat.1345....0G</td><td>18.420</td><td>3.530</td><td>2</td><td>2</td><td>1.100</td><td>0.590</td><td>0</td><td>A</td><td>2007A&amp;A...474..653V</td><td>HIP257</td></tr>\n",
       "<tr><td>HD 225102</td><td>00 03 25.6485</td><td>-46 49 51.515</td><td>14</td><td>14</td><td>0.036</td><td>0.035</td><td>90</td><td>A</td><td>O</td><td>2018yCat.1345....0G</td><td>--</td><td>11.27</td><td>11.2</td><td>--</td><td>--</td><td>10.972</td><td>10.969</td><td>10.976</td><td>A0/1V</td><td>D</td><td>1978MSS...C02....0H</td><td>Star</td><td>*|IR</td><td>0.997</td><td>4</td><td>0.056</td><td>A</td><td>2018yCat.1345....0G</td><td>-0.774</td><td>-2.586</td><td>3</td><td>3</td><td>0.064</td><td>0.066</td><td>90</td><td>A</td><td>2018yCat.1345....0G</td><td>HIP273</td></tr>\n",
       "<tr><td>HD 225200</td><td>00 04 20.3172</td><td>-29 16 07.763</td><td>14</td><td>14</td><td>0.080</td><td>0.042</td><td>90</td><td>A</td><td>O</td><td>2018yCat.1345....0G</td><td>--</td><td>6.4</td><td>6.39</td><td>--</td><td>--</td><td>6.277</td><td>6.252</td><td>6.259</td><td>A1V</td><td>C</td><td>1982MSS...C03....0H</td><td>Star</td><td>*|*iC|IR|UV</td><td>7.437</td><td>4</td><td>0.0838</td><td>A</td><td>2018yCat.1345....0G</td><td>28.430</td><td>4.030</td><td>2</td><td>2</td><td>0.560</td><td>0.300</td><td>0</td><td>A</td><td>2007A&amp;A...474..653V</td><td>HR9102</td></tr>\n",
       "<tr><td>BD+61  2594</td><td>00 07 05.4869</td><td>+62 23 33.832</td><td>14</td><td>14</td><td>0.024</td><td>0.024</td><td>90</td><td>A</td><td>O</td><td>2018yCat.1345....0G</td><td>--</td><td>9.67</td><td>9.48</td><td>--</td><td>--</td><td>9.064</td><td>9.037</td><td>8.968</td><td>A0V</td><td>C</td><td>1972A&amp;A....17..253M</td><td>Star</td><td>*|IR</td><td>2.886</td><td>4</td><td>0.0304</td><td>A</td><td>2018yCat.1345....0G</td><td>7.843</td><td>-1.937</td><td>3</td><td>3</td><td>0.048</td><td>0.041</td><td>90</td><td>A</td><td>2018yCat.1345....0G</td><td>HIP582</td></tr>\n",
       "<tr><td>HD    325</td><td>00 07 37.5671</td><td>-71 48 43.669</td><td>14</td><td>14</td><td>0.034</td><td>0.026</td><td>90</td><td>A</td><td>O</td><td>2018yCat.1345....0G</td><td>--</td><td>9.8</td><td>9.72</td><td>--</td><td>--</td><td>9.609</td><td>9.59</td><td>9.594</td><td>A0V</td><td>C</td><td>1975MSS...C01....0H</td><td>Star</td><td>*|IR|UV</td><td>1.693</td><td>4</td><td>0.0348</td><td>A</td><td>2018yCat.1345....0G</td><td>21.443</td><td>-14.759</td><td>3</td><td>3</td><td>0.063</td><td>0.048</td><td>90</td><td>A</td><td>2018yCat.1345....0G</td><td>HD325</td></tr>\n",
       "<tr><td>BD+62    15</td><td>00 11 37.4546</td><td>+63 26 35.285</td><td>14</td><td>14</td><td>0.029</td><td>0.027</td><td>90</td><td>A</td><td>O</td><td>2018yCat.1345....0G</td><td>--</td><td>9.36</td><td>9.2</td><td>--</td><td>--</td><td>8.902</td><td>8.937</td><td>8.9</td><td>A0V</td><td>C</td><td>1972A&amp;A....17..253M</td><td>Star</td><td>*|IR|UV</td><td>1.677</td><td>4</td><td>0.037</td><td>A</td><td>2018yCat.1345....0G</td><td>4.617</td><td>-2.854</td><td>3</td><td>3</td><td>0.058</td><td>0.054</td><td>90</td><td>A</td><td>2016A&amp;A...595A...2G</td><td>HIP942</td></tr>\n",
       "<tr><td>HD   1160</td><td>00 15 57.3020</td><td>+04 15 04.004</td><td>14</td><td>14</td><td>0.063</td><td>0.051</td><td>90</td><td>A</td><td>O</td><td>2018yCat.1345....0G</td><td>--</td><td>7.159</td><td>7.119</td><td>--</td><td>--</td><td>6.983</td><td>7.013</td><td>7.04</td><td>A0V</td><td>C</td><td>1999MSS...C05....0H</td><td>Star</td><td>**|*|IR|UV</td><td>7.942</td><td>4</td><td>0.0764</td><td>A</td><td>2018yCat.1345....0G</td><td>20.089</td><td>-14.575</td><td>3</td><td>3</td><td>0.138</td><td>0.099</td><td>90</td><td>A</td><td>2018yCat.1345....0G</td><td>HD1160</td></tr>\n",
       "<tr><td>...</td><td>...</td><td>...</td><td>...</td><td>...</td><td>...</td><td>...</td><td>...</td><td>...</td><td>...</td><td>...</td><td>...</td><td>...</td><td>...</td><td>...</td><td>...</td><td>...</td><td>...</td><td>...</td><td>...</td><td>...</td><td>...</td><td>...</td><td>...</td><td>...</td><td>...</td><td>...</td><td>...</td><td>...</td><td>...</td><td>...</td><td>...</td><td>...</td><td>...</td><td>...</td><td>...</td><td>...</td><td>...</td><td>...</td></tr>\n",
       "<tr><td>HD 223296</td><td>23 48 47.0272</td><td>-71 18 52.485</td><td>14</td><td>14</td><td>0.043</td><td>0.039</td><td>90</td><td>A</td><td>O</td><td>2018yCat.1345....0G</td><td>--</td><td>10.79</td><td>10.66</td><td>--</td><td>--</td><td>10.594</td><td>10.597</td><td>10.595</td><td>A0V</td><td>C</td><td>1975MSS...C01....0H</td><td>Star</td><td>*|IR</td><td>1.444</td><td>4</td><td>0.0465</td><td>A</td><td>2018yCat.1345....0G</td><td>9.471</td><td>-6.298</td><td>3</td><td>3</td><td>0.088</td><td>0.083</td><td>90</td><td>A</td><td>2018yCat.1345....0G</td><td>HD223296</td></tr>\n",
       "<tr><td>HD 223386</td><td>23 48 53.9576</td><td>+59 58 44.171</td><td>14</td><td>14</td><td>0.124</td><td>0.107</td><td>90</td><td>A</td><td>O</td><td>2018yCat.1345....0G</td><td>--</td><td>6.311</td><td>6.324</td><td>--</td><td>--</td><td>6.301</td><td>6.326</td><td>6.331</td><td>A0V</td><td>C</td><td></td><td>PM*</td><td>*|PM*|IR|UV</td><td>8.904</td><td>4</td><td>0.1559</td><td>A</td><td>2018yCat.1345....0G</td><td>50.625</td><td>21.477</td><td>3</td><td>3</td><td>0.240</td><td>0.207</td><td>90</td><td>A</td><td>2018yCat.1345....0G</td><td>HIP117450</td></tr>\n",
       "<tr><td>* del Scl</td><td>23 48 55.5465</td><td>-28 07 48.974</td><td>9</td><td>9</td><td>2.190</td><td>2.020</td><td>90</td><td>A</td><td>O</td><td>2007A&amp;A...474..653V</td><td>4.55</td><td>4.58</td><td>4.57</td><td>4.53</td><td>4.55</td><td>4.801</td><td>4.643</td><td>4.532</td><td>A0VankB9((_lB))</td><td>B</td><td>2017AJ....154...31G</td><td>PM*</td><td>**|*|PM*|IR|UV|X</td><td>23.730</td><td>2</td><td>0.22</td><td>A</td><td>2007A&amp;A...474..653V</td><td>100.800</td><td>-105.340</td><td>2</td><td>2</td><td>0.250</td><td>0.230</td><td>0</td><td>A</td><td>2007A&amp;A...474..653V</td><td>del_Scl</td></tr>\n",
       "<tr><td>HD 223580</td><td>23 50 32.4366</td><td>+61 01 07.812</td><td>14</td><td>14</td><td>0.027</td><td>0.028</td><td>90</td><td>A</td><td>O</td><td>2018yCat.1345....0G</td><td>--</td><td>9.48</td><td>9.2</td><td>--</td><td>--</td><td>8.418</td><td>8.336</td><td>8.277</td><td>A0V</td><td>C</td><td>1972A&amp;A....17..253M</td><td>Star</td><td>*|IR</td><td>1.630</td><td>4</td><td>0.0368</td><td>A</td><td>2018yCat.1345....0G</td><td>5.408</td><td>2.744</td><td>3</td><td>3</td><td>0.054</td><td>0.050</td><td>90</td><td>A</td><td>2018yCat.1345....0G</td><td>HD223580</td></tr>\n",
       "<tr><td>HD 223630</td><td>23 51 16.3561</td><td>-23 26 14.170</td><td>14</td><td>14</td><td>0.079</td><td>0.063</td><td>90</td><td>A</td><td>O</td><td>2018yCat.1345....0G</td><td>--</td><td>10.12</td><td>10.01</td><td>10.19</td><td>9.967</td><td>9.772</td><td>9.726</td><td>9.672</td><td>A0V</td><td>C</td><td>1988MSS...C04....0H</td><td>Star</td><td>*|IR</td><td>1.592</td><td>4</td><td>0.101</td><td>A</td><td>2018yCat.1345....0G</td><td>-12.295</td><td>-11.718</td><td>3</td><td>3</td><td>0.148</td><td>0.126</td><td>90</td><td>A</td><td>2018yCat.1345....0G</td><td>HD223630</td></tr>\n",
       "<tr><td>BD+60  2638</td><td>23 54 49.1404</td><td>+60 49 44.190</td><td>14</td><td>14</td><td>0.027</td><td>0.026</td><td>90</td><td>A</td><td>O</td><td>2018yCat.1345....0G</td><td>--</td><td>9.83</td><td>9.5</td><td>--</td><td>--</td><td>8.549</td><td>8.457</td><td>8.398</td><td>A0V</td><td>C</td><td>1972A&amp;A....17..253M</td><td>Star</td><td>*|IR</td><td>2.290</td><td>4</td><td>0.0369</td><td>A</td><td>2018yCat.1345....0G</td><td>-4.500</td><td>-4.845</td><td>3</td><td>3</td><td>0.056</td><td>0.044</td><td>90</td><td>A</td><td>2018yCat.1345....0G</td><td>BD+602638</td></tr>\n",
       "<tr><td>HD 224377</td><td>23 57 27.4587</td><td>-61 45 42.737</td><td>14</td><td>14</td><td>0.038</td><td>0.036</td><td>90</td><td>A</td><td>O</td><td>2018yCat.1345....0G</td><td>--</td><td>8.2</td><td>8.19</td><td>--</td><td>--</td><td>8.212</td><td>8.256</td><td>8.241</td><td>A0V</td><td>C</td><td>1975MSS...C01....0H</td><td>Star</td><td>*|IR|UV</td><td>3.946</td><td>4</td><td>0.0493</td><td>A</td><td>2018yCat.1345....0G</td><td>20.046</td><td>10.232</td><td>3</td><td>3</td><td>0.075</td><td>0.072</td><td>90</td><td>A</td><td>2018yCat.1345....0G</td><td>HD224377</td></tr>\n",
       "<tr><td>HD 224399</td><td>23 57 34.0931</td><td>-39 40 43.125</td><td>14</td><td>14</td><td>0.048</td><td>0.059</td><td>90</td><td>A</td><td>O</td><td>2018yCat.1345....0G</td><td>--</td><td>10.045</td><td>9.966</td><td>9.91</td><td>10.008</td><td>9.941</td><td>9.954</td><td>9.936</td><td>A0V</td><td>C</td><td>1978MSS...C02....0H</td><td>Star</td><td>*|IR</td><td>1.925</td><td>4</td><td>0.0808</td><td>A</td><td>2018yCat.1345....0G</td><td>10.725</td><td>-9.794</td><td>3</td><td>3</td><td>0.077</td><td>0.118</td><td>90</td><td>A</td><td>2018yCat.1345....0G</td><td>HD224399</td></tr>\n",
       "<tr><td>HD 224622</td><td>23 59 19.8900</td><td>-42 03 22.596</td><td>14</td><td>14</td><td>0.035</td><td>0.035</td><td>90</td><td>A</td><td>O</td><td>2018yCat.1345....0G</td><td>--</td><td>8.67</td><td>8.67</td><td>--</td><td>--</td><td>8.596</td><td>8.611</td><td>8.609</td><td>A0V</td><td>C</td><td>1978MSS...C02....0H</td><td>Star</td><td>*|IR</td><td>2.011</td><td>4</td><td>0.0478</td><td>A</td><td>2018yCat.1345....0G</td><td>17.761</td><td>11.661</td><td>3</td><td>3</td><td>0.060</td><td>0.075</td><td>90</td><td>A</td><td>2018yCat.1345....0G</td><td>HD224622</td></tr>\n",
       "<tr><td>BD+60  2651</td><td>23 59 36.0679</td><td>+60 49 01.900</td><td>14</td><td>14</td><td>0.028</td><td>0.026</td><td>90</td><td>A</td><td>O</td><td>2018yCat.1345....0G</td><td>--</td><td>9.79</td><td>9.6</td><td>--</td><td>--</td><td>9.125</td><td>9.072</td><td>9.052</td><td>A0V</td><td>C</td><td>1972A&amp;A....17..253M</td><td>Star</td><td>*|IR</td><td>2.058</td><td>4</td><td>0.039</td><td>A</td><td>2018yCat.1345....0G</td><td>3.682</td><td>-8.430</td><td>3</td><td>3</td><td>0.057</td><td>0.051</td><td>90</td><td>A</td><td>2018yCat.1345....0G</td><td>BD+602651</td></tr>\n",
       "</table>"
      ],
      "text/plain": [
       "<Table length=4012>\n",
       "  MAIN_ID         RA           DEC      ...      PM_BIBCODE      TYPED_ID\n",
       "               \"h:m:s\"       \"d:m:s\"    ...                              \n",
       "   object       str13         str13     ...        object         object \n",
       "----------- ------------- ------------- ... ------------------- ---------\n",
       "  HD 224820 00 00 55.3383 -30 03 51.003 ... 2018yCat.1345....0G     HIP77\n",
       "  HD 225047 00 02 55.2272 -30 08 59.184 ... 2018yCat.1345....0G    HIP232\n",
       "  HD 225077 00 03 12.7341 -31 12 44.581 ... 2007A&A...474..653V    HIP257\n",
       "  HD 225102 00 03 25.6485 -46 49 51.515 ... 2018yCat.1345....0G    HIP273\n",
       "  HD 225200 00 04 20.3172 -29 16 07.763 ... 2007A&A...474..653V    HR9102\n",
       "BD+61  2594 00 07 05.4869 +62 23 33.832 ... 2018yCat.1345....0G    HIP582\n",
       "  HD    325 00 07 37.5671 -71 48 43.669 ... 2018yCat.1345....0G     HD325\n",
       "BD+62    15 00 11 37.4546 +63 26 35.285 ... 2016A&A...595A...2G    HIP942\n",
       "  HD   1160 00 15 57.3020 +04 15 04.004 ... 2018yCat.1345....0G    HD1160\n",
       "        ...           ...           ... ...                 ...       ...\n",
       "  HD 223296 23 48 47.0272 -71 18 52.485 ... 2018yCat.1345....0G  HD223296\n",
       "  HD 223386 23 48 53.9576 +59 58 44.171 ... 2018yCat.1345....0G HIP117450\n",
       "  * del Scl 23 48 55.5465 -28 07 48.974 ... 2007A&A...474..653V   del_Scl\n",
       "  HD 223580 23 50 32.4366 +61 01 07.812 ... 2018yCat.1345....0G  HD223580\n",
       "  HD 223630 23 51 16.3561 -23 26 14.170 ... 2018yCat.1345....0G  HD223630\n",
       "BD+60  2638 23 54 49.1404 +60 49 44.190 ... 2018yCat.1345....0G BD+602638\n",
       "  HD 224377 23 57 27.4587 -61 45 42.737 ... 2018yCat.1345....0G  HD224377\n",
       "  HD 224399 23 57 34.0931 -39 40 43.125 ... 2018yCat.1345....0G  HD224399\n",
       "  HD 224622 23 59 19.8900 -42 03 22.596 ... 2018yCat.1345....0G  HD224622\n",
       "BD+60  2651 23 59 36.0679 +60 49 01.900 ... 2018yCat.1345....0G BD+602651"
      ]
     },
     "execution_count": 11,
     "metadata": {},
     "output_type": "execute_result"
    }
   ],
   "source": [
    "table"
   ]
  },
  {
   "cell_type": "code",
   "execution_count": 25,
   "metadata": {},
   "outputs": [],
   "source": [
    "pdtable = table.to_pandas()\n",
    "# pdtable"
   ]
  },
  {
   "cell_type": "code",
   "execution_count": 26,
   "metadata": {},
   "outputs": [
    {
     "data": {
      "text/plain": [
       "MAIN_ID                     b'HD 224820'\n",
       "RA                         00 00 55.3383\n",
       "DEC                        -30 03 51.003\n",
       "RA_PREC                               14\n",
       "DEC_PREC                              14\n",
       "COO_ERR_MAJA                      0.0685\n",
       "COO_ERR_MINA                      0.0381\n",
       "COO_ERR_ANGLE                         90\n",
       "COO_QUAL                               A\n",
       "COO_WAVELENGTH                         O\n",
       "COO_BIBCODE       b'2018yCat.1345....0G'\n",
       "FLUX_U                               NaN\n",
       "FLUX_B                              8.43\n",
       "FLUX_V                              8.41\n",
       "FLUX_R                               NaN\n",
       "FLUX_I                               NaN\n",
       "FLUX_J                             8.343\n",
       "FLUX_H                              8.41\n",
       "FLUX_K                              8.36\n",
       "SP_TYPE                           b'A0V'\n",
       "SP_QUAL                                C\n",
       "SP_BIBCODE        b'1982MSS...C03....0H'\n",
       "OTYPE_S                          b'Star'\n",
       "OTYPES                  b'*|*|*iC|IR|UV'\n",
       "PLX_VALUE                         4.3249\n",
       "PLX_PREC                               4\n",
       "PLX_ERROR                         0.0747\n",
       "PLX_QUAL                               A\n",
       "PLX_BIBCODE       b'2018yCat.1345....0G'\n",
       "PMRA                              18.495\n",
       "PMDEC                              2.429\n",
       "PMRA_PREC                              3\n",
       "PMDEC_PREC                             3\n",
       "PM_ERR_MAJA                        0.108\n",
       "PM_ERR_MINA                        0.077\n",
       "PM_ERR_ANGLE                          90\n",
       "PM_QUAL                                A\n",
       "PM_BIBCODE        b'2018yCat.1345....0G'\n",
       "TYPED_ID                        b'HIP77'\n",
       "Name: 0, dtype: object"
      ]
     },
     "execution_count": 26,
     "metadata": {},
     "output_type": "execute_result"
    }
   ],
   "source": [
    "pdtable.loc[0]"
   ]
  },
  {
   "cell_type": "code",
   "execution_count": 27,
   "metadata": {},
   "outputs": [],
   "source": [
    "string_fields = ['MAIN_ID','COO_BIBCODE','SP_TYPE','SP_BIBCODE','OTYPE_S',\n",
    "                 'OTYPES', 'PLX_BIBCODE','PM_BIBCODE','TYPED_ID']\n",
    "\n",
    "# types_dict = dict(zip(string_fields, ['string']*len(string_fields)))\n",
    "\n",
    "# pdtable = pdtable.astype(types_dict)\n",
    "# pdtable.dtypes"
   ]
  },
  {
   "cell_type": "code",
   "execution_count": 28,
   "metadata": {},
   "outputs": [],
   "source": [
    "for col_name in string_fields:\n",
    "    pdtable[col_name] = pdtable[col_name].str.decode('UTF-8')\n",
    "# pdtable"
   ]
  },
  {
   "cell_type": "code",
   "execution_count": 30,
   "metadata": {},
   "outputs": [],
   "source": [
    "pdtable.to_csv('Simbad_raw.csv')\n",
    "# pdtable"
   ]
  },
  {
   "cell_type": "markdown",
   "metadata": {},
   "source": [
    "### Добавление информации о количестве соседних звёзд\n",
    "<span style=\"color:red\">Их нужно отдельно искать скриптом на Симбаде</span>."
   ]
  },
  {
   "cell_type": "code",
   "execution_count": 37,
   "metadata": {},
   "outputs": [],
   "source": [
    "df2 = pd.read_csv('./simbad_res2_p.txt', sep='\\n', skipinitialspace=True,\n",
    "                 lineterminator='|', names=['name', '25s', '1.5m', '1', '2'],\n",
    "                  index_col=None)"
   ]
  },
  {
   "cell_type": "code",
   "execution_count": 38,
   "metadata": {},
   "outputs": [],
   "source": [
    "df2 = df2.drop(['1','2'], axis=1)\n",
    "# df2"
   ]
  },
  {
   "cell_type": "code",
   "execution_count": 39,
   "metadata": {},
   "outputs": [],
   "source": [
    "# df2[(df2['25s']!=1) | (df2['1.5m']!=1)]"
   ]
  },
  {
   "cell_type": "code",
   "execution_count": 35,
   "metadata": {},
   "outputs": [],
   "source": [
    "result = pdtable.merge(df2, how='left', left_on='TYPED_ID', right_on='name').drop('name', axis=1)\n",
    "# result"
   ]
  },
  {
   "cell_type": "code",
   "execution_count": 40,
   "metadata": {},
   "outputs": [],
   "source": [
    "result.to_csv(\"simbad_full.csv\", index=False)"
   ]
  },
  {
   "cell_type": "code",
   "execution_count": null,
   "metadata": {},
   "outputs": [],
   "source": []
  }
 ],
 "metadata": {
  "kernelspec": {
   "display_name": "Python 3",
   "language": "python",
   "name": "python3"
  },
  "language_info": {
   "codemirror_mode": {
    "name": "ipython",
    "version": 3
   },
   "file_extension": ".py",
   "mimetype": "text/x-python",
   "name": "python",
   "nbconvert_exporter": "python",
   "pygments_lexer": "ipython3",
   "version": "3.8.5"
  }
 },
 "nbformat": 4,
 "nbformat_minor": 4
}
